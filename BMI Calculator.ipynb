{
 "cells": [
  {
   "cell_type": "markdown",
   "id": "cd9cc36a",
   "metadata": {},
   "source": [
    "# BMI Calculator"
   ]
  },
  {
   "cell_type": "code",
   "execution_count": null,
   "id": "15ebd8c5",
   "metadata": {},
   "outputs": [],
   "source": [
    "# BMI = (weight in pounds x 703) / (height in inches x height in inches)\n",
    "\n",
    "# BMI = (weight in kilograms * 10000) / (height in centimeter * height in centimeter)"
   ]
  },
  {
   "cell_type": "code",
   "execution_count": null,
   "id": "d8b35512",
   "metadata": {},
   "outputs": [],
   "source": [
    "# BMI Range\n",
    "# Under 18.5 --------- Underweight -> Minimal\n",
    "# 18.5 - 24.9 -------- Normal Weight --> Minimal\n",
    "# 25 - 29.9 ---------- Overweight --> Increased\n",
    "# 30 - 34.9 ---------- Obese --> High\n",
    "# 35 - 39.9 ---------- Severely Obese --> Very High\n",
    "# 40 and over -------- Morbidly Obses --> Extremely High"
   ]
  },
  {
   "cell_type": "code",
   "execution_count": 13,
   "id": "c0f00a74",
   "metadata": {},
   "outputs": [
    {
     "name": "stdout",
     "output_type": "stream",
     "text": [
      "Enter your Name: Joenel\n",
      "Enter your weight in kilograms: 67\n",
      "Enter you heigth in centimeter165\n",
      "24.609733700642792\n",
      "Joenel, you have Normal Weight\n"
     ]
    }
   ],
   "source": [
    "Name = input('Enter your Name: ')\n",
    "\n",
    "weight = int(input('Enter your weight in kilograms: '))\n",
    "\n",
    "height = int(input('Enter you heigth in centimeter'))\n",
    "\n",
    "BMI = (weight * 10000) / (height * height)\n",
    "\n",
    "print(BMI)\n",
    "\n",
    "if (BMI < 18.5):\n",
    "    print(Name + ', you are Underweight')\n",
    "elif (BMI <= 24.9):\n",
    "        print(Name + ', you have Normal Weight')\n",
    "elif (BMI <= 29.9):\n",
    "        print(Name + ', you are Overweight')   \n",
    "elif (BMI <= 34.9):\n",
    "        print(Name + ', you are Obese') \n",
    "elif (BMI <= 39.9):\n",
    "        print(Name + ', you are Severly Obese')\n",
    "elif (BMI >= 40):\n",
    "        print(Name + ', you areMorbidly Obese')\n",
    "else:\n",
    "    print('Enter Valid Input') "
   ]
  },
  {
   "cell_type": "code",
   "execution_count": null,
   "id": "97f15b4d",
   "metadata": {},
   "outputs": [],
   "source": []
  },
  {
   "cell_type": "code",
   "execution_count": null,
   "id": "4315ea79",
   "metadata": {},
   "outputs": [],
   "source": []
  },
  {
   "cell_type": "code",
   "execution_count": null,
   "id": "932aa6d3",
   "metadata": {},
   "outputs": [],
   "source": []
  },
  {
   "cell_type": "code",
   "execution_count": null,
   "id": "46607330",
   "metadata": {},
   "outputs": [],
   "source": []
  },
  {
   "cell_type": "code",
   "execution_count": null,
   "id": "7308f635",
   "metadata": {},
   "outputs": [],
   "source": []
  }
 ],
 "metadata": {
  "kernelspec": {
   "display_name": "Python 3 (ipykernel)",
   "language": "python",
   "name": "python3"
  },
  "language_info": {
   "codemirror_mode": {
    "name": "ipython",
    "version": 3
   },
   "file_extension": ".py",
   "mimetype": "text/x-python",
   "name": "python",
   "nbconvert_exporter": "python",
   "pygments_lexer": "ipython3",
   "version": "3.10.9"
  }
 },
 "nbformat": 4,
 "nbformat_minor": 5
}
